{
 "cells": [
  {
   "cell_type": "code",
   "execution_count": 2,
   "metadata": {},
   "outputs": [
    {
     "name": "stdout",
     "output_type": "stream",
     "text": [
      "0\n"
     ]
    }
   ],
   "source": [
    "g = [[0,1,0,1,1], [1,0,1,0,1], [0,1,0,1,0], [1,0,1,0,1], [1,1,0,1,0]]\n",
    "\n",
    "print(g[3][1])\n",
    "\n",
    "#adjacency matrix"
   ]
  },
  {
   "cell_type": "code",
   "execution_count": 4,
   "metadata": {},
   "outputs": [
    {
     "name": "stdout",
     "output_type": "stream",
     "text": [
      "4\n"
     ]
    }
   ],
   "source": [
    "#adjacancy list\n",
    "g = [[2,4,5], #1\n",
    "     [1,3,5], #2\n",
    "     [2,4], #3\n",
    "     [1,3,5], #4\n",
    "     [1,2,4] #5     \n",
    "     ]\n",
    "\n",
    "print(g[2][1])"
   ]
  },
  {
   "cell_type": "code",
   "execution_count": 10,
   "metadata": {},
   "outputs": [
    {
     "name": "stdout",
     "output_type": "stream",
     "text": [
      "3\n"
     ]
    }
   ],
   "source": [
    "#adjacency list with dictionary\n",
    "\n",
    "g={1:[2,4,5], #1\n",
    "    \"two\": [1,3,5], #2\n",
    "    3: [2,4], #3\n",
    "    4:[1,3,5], #4\n",
    "    5: [1,2,4] #5  \n",
    "     }\n",
    "\n",
    "# print(g[2][1])\n",
    "print(g[\"two\"][1])"
   ]
  },
  {
   "attachments": {},
   "cell_type": "markdown",
   "metadata": {},
   "source": [
    "======Exercise from PPT======="
   ]
  },
  {
   "cell_type": "code",
   "execution_count": 17,
   "metadata": {},
   "outputs": [
    {
     "name": "stdout",
     "output_type": "stream",
     "text": [
      "{'S': [('A', 5), ('B', 2), ('C', 4)], 'A': [('D', 9), ('E', 4)], 'B': [('G', 6)], 'C': [('F', 2)], 'D': [('H', 7)], 'E': [('G', 6)], 'F': [('G', 1)], 'G': [], 'H': []}\n"
     ]
    }
   ],
   "source": [
    "#examplepracticegraph from ppt page 33\n",
    "\n",
    "#unweighted\n",
    "G1={\"S\":[\"A\", \"B\", \"C\"],\n",
    "    \"A\":[\"D\", \"E\"],\n",
    "    \"B\":[\"G\"],\n",
    "    \"C\":[\"F\"],\n",
    "    \"D\":[\"H\"],\n",
    "    \"E\":[\"G\"],\n",
    "    \"F\":[\"G\"],\n",
    "    \"G\":[],\n",
    "    \"H\":[]\n",
    "    }\n",
    "\n",
    "#weighted\n",
    "G2={\"S\":[(\"A\",5), (\"B\", 2), (\"C\", 4)],\n",
    "   \"A\":[(\"D\", 9), (\"E\", 4)],\n",
    "   \"B\":[(\"G\", 6)],\n",
    "   \"C\":[(\"F\", 2)],\n",
    "   \"D\":[(\"H\", 7)],\n",
    "   \"E\":[(\"G\", 6)],\n",
    "   \"F\":[(\"G\", 1)],\n",
    "   \"G\":[],\n",
    "   \"H\":[],\n",
    "   }\n",
    "\n",
    "print(G)"
   ]
  },
  {
   "cell_type": "code",
   "execution_count": 18,
   "metadata": {},
   "outputs": [],
   "source": [
    "#breadthfirstsearch dasar\n",
    "def bfs(G, start, target):\n",
    "    #helper data structure queue\n",
    "    visited =set()\n",
    "    Q=[]\n",
    "    Q.append(start)\n",
    "\n",
    "    #loop until Q is not empty\n",
    "    while (Q!=[]):\n",
    "        #pick the first node in queue\n",
    "        u=Q.pop(0)\n",
    "    \n",
    "        #keep track of visited nodes\n",
    "        visited.add(u)\n",
    "        print(\"visited: \", u)\n",
    "\n",
    "        #check if the goal is reached\n",
    "        if u == target:\n",
    "            print(\"reached target: \", target)\n",
    "            break\n",
    "            \n",
    "        for v in G[u]:\n",
    "            if (v not in visited) and (v not in Q):\n",
    "                Q.append(v)\n",
    "                print(\"added neighbor: \", v)\n",
    "\n"
   ]
  },
  {
   "cell_type": "code",
   "execution_count": 20,
   "metadata": {},
   "outputs": [
    {
     "name": "stdout",
     "output_type": "stream",
     "text": [
      "visited:  S\n",
      "added neighbor:  A\n",
      "added neighbor:  B\n",
      "added neighbor:  C\n",
      "visited:  A\n",
      "added neighbor:  D\n",
      "added neighbor:  E\n",
      "visited:  B\n",
      "added neighbor:  G\n",
      "visited:  C\n",
      "added neighbor:  F\n",
      "visited:  D\n",
      "added neighbor:  H\n",
      "visited:  E\n",
      "visited:  G\n",
      "reached target:  G\n"
     ]
    }
   ],
   "source": [
    "# start =\"S\"\n",
    "# target=\"G\"\n",
    "\n",
    "bfs(G1, \"S\", \"G\")"
   ]
  },
  {
   "cell_type": "code",
   "execution_count": 22,
   "metadata": {},
   "outputs": [],
   "source": [
    "#breadthfirstsearch with backtracing and cost computation\n",
    "def bfs2(G, start, target):\n",
    "    #helping data structure\n",
    "    visited = set()\n",
    "    Q=[]\n",
    "    Q.append((None, start, 0))\n",
    "    trace={}\n",
    "\n",
    "    #loop until Q is not empty\n",
    "    while (Q!=[]):\n",
    "        #pick the first node in queue and keep track of parent node\n",
    "        #p is parent, u is current node, c is cost\n",
    "        (p, u, c) = Q.pop(0) #to keep track for the future for backtracing and cost\n",
    "        trace[u]=(p,c)\n",
    "\n",
    "        #keep track of visited nodes\n",
    "        visited.add(u)\n",
    "        print(\"visited: \", u)\n",
    "\n",
    "        #check if the goal is reached\n",
    "        if u == target:\n",
    "            print(\"reached target: \", target)\n",
    "            break\n",
    "\n",
    "        for (v,c) in G[u]:\n",
    "            if (v not in visited) and ((u, v, c) not in Q):\n",
    "                Q.append((u,v,c))\n",
    "                print(\"added neighbor: \", v)\n",
    "                #v is children\n",
    "\n",
    "    return trace\n",
    "\n"
   ]
  },
  {
   "cell_type": "code",
   "execution_count": 23,
   "metadata": {},
   "outputs": [
    {
     "name": "stdout",
     "output_type": "stream",
     "text": [
      "visited:  S\n",
      "added neighbor:  A\n",
      "added neighbor:  B\n",
      "added neighbor:  C\n",
      "visited:  A\n",
      "added neighbor:  D\n",
      "added neighbor:  E\n",
      "visited:  B\n",
      "added neighbor:  G\n",
      "visited:  C\n",
      "added neighbor:  F\n",
      "visited:  D\n",
      "added neighbor:  H\n",
      "visited:  E\n",
      "added neighbor:  G\n",
      "visited:  G\n",
      "reached target:  G\n"
     ]
    },
    {
     "data": {
      "text/plain": [
       "{'S': (None, 0),\n",
       " 'A': ('S', 5),\n",
       " 'B': ('S', 2),\n",
       " 'C': ('S', 4),\n",
       " 'D': ('A', 9),\n",
       " 'E': ('A', 4),\n",
       " 'G': ('B', 6)}"
      ]
     },
     "execution_count": 23,
     "metadata": {},
     "output_type": "execute_result"
    }
   ],
   "source": [
    "tr =\"G\"\n",
    "bfs2(G2, \"S\",tr)\n",
    "\n",
    "#recover path by backtracing\n",
    "path = []\n",
    "cost = 0\n",
    "if target in tr:\n",
    "    (p.c)"
   ]
  }
 ],
 "metadata": {
  "kernelspec": {
   "display_name": "base",
   "language": "python",
   "name": "python3"
  },
  "language_info": {
   "codemirror_mode": {
    "name": "ipython",
    "version": 3
   },
   "file_extension": ".py",
   "mimetype": "text/x-python",
   "name": "python",
   "nbconvert_exporter": "python",
   "pygments_lexer": "ipython3",
   "version": "3.9.12"
  },
  "orig_nbformat": 4
 },
 "nbformat": 4,
 "nbformat_minor": 2
}
